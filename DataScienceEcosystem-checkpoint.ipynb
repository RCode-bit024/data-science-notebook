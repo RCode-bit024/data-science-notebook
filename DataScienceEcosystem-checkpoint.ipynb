{
 "cells": [
  {
   "cell_type": "markdown",
   "id": "ec57e810-858f-4190-803e-ae760e9a6fd7",
   "metadata": {},
   "source": [
    "# Data Science Tools and Ecosystem"
   ]
  },
  {
   "cell_type": "markdown",
   "id": "fa5dd618-942b-4fe6-b97f-3807bc6e4850",
   "metadata": {},
   "source": [
    "In this notebook, Data Science Tools and Ecosystem are summrized"
   ]
  },
  {
   "cell_type": "markdown",
   "id": "f4a1b586-314b-46c2-a7df-f98ee6e95405",
   "metadata": {},
   "source": [
    "Some of the popular languages that Data Scientists use are:\n",
    "1. Python\n",
    "2. R\n",
    "3. SQL"
   ]
  },
  {
   "cell_type": "markdown",
   "id": "3918b5ec-d74e-4ae9-8868-98594df9c47d",
   "metadata": {},
   "source": [
    "Some of the commonly used libraries used by Data Scientists include:\n",
    "1. Pandas\n",
    "2. Numpy\n",
    "3. Matplotlib\n",
    "4. Scikit-learn\n",
    "5. TensorFlow\n",
    "6. SciPy"
   ]
  },
  {
   "cell_type": "markdown",
   "id": "57ce01e8-c5bc-4f4d-b4d2-634c0367a4e9",
   "metadata": {},
   "source": [
    "| Data Science Tools |\n",
    "|--------------------|\n",
    "|Jupter Notebook|\n",
    "| RStudio |\n",
    "| Apache Zeppelin |"
   ]
  },
  {
   "cell_type": "markdown",
   "id": "cc14a190-8007-42c0-85c1-d51804a8f372",
   "metadata": {},
   "source": [
    "### Below are a few examples of evaluating arithmetic expressions in Python"
   ]
  },
  {
   "cell_type": "code",
   "execution_count": 38,
   "id": "2454428f-af0e-45d7-97cf-674bc23e327c",
   "metadata": {
    "scrolled": true
   },
   "outputs": [
    {
     "data": {
      "text/plain": [
       "17"
      ]
     },
     "execution_count": 38,
     "metadata": {},
     "output_type": "execute_result"
    }
   ],
   "source": [
    "# This a simple arithmetic expression to mutiply then add integers\n",
    "Result = (3*4)+5\n",
    "Result"
   ]
  },
  {
   "cell_type": "markdown",
   "id": "5bb82072-a897-46b6-bb97-65dc1bc573b9",
   "metadata": {},
   "source": [
    "**Objectives:**\n",
    "- List popular languages for Data Science\n",
    "- Understand popular open-source tools\n",
    "- Learn to use markdown cells"
   ]
  },
  {
   "cell_type": "markdown",
   "id": "372ae313-dd81-4e05-99cb-664283a96b16",
   "metadata": {},
   "source": [
    "## Author\n",
    "Rusi"
   ]
  },
  {
   "cell_type": "code",
   "execution_count": null,
   "id": "b845b566-df52-41c1-aa4f-ae8300ab2098",
   "metadata": {},
   "outputs": [],
   "source": []
  },
  {
   "cell_type": "code",
   "execution_count": null,
   "id": "5b554636-a9a2-466c-bb46-f7cc816d024d",
   "metadata": {},
   "outputs": [],
   "source": []
  },
  {
   "cell_type": "code",
   "execution_count": null,
   "id": "abd5211e-b49c-4b96-a7bf-2063d7d500e0",
   "metadata": {},
   "outputs": [],
   "source": []
  },
  {
   "cell_type": "code",
   "execution_count": null,
   "id": "3657707b-782f-4ea4-b71f-288f1c66fe6b",
   "metadata": {},
   "outputs": [],
   "source": []
  },
  {
   "cell_type": "code",
   "execution_count": null,
   "id": "5bd83dec-2681-4d59-992b-7bb127e48453",
   "metadata": {},
   "outputs": [],
   "source": []
  },
  {
   "cell_type": "code",
   "execution_count": null,
   "id": "3a616301-7287-4878-b4c6-78749e258a86",
   "metadata": {},
   "outputs": [],
   "source": []
  },
  {
   "cell_type": "code",
   "execution_count": null,
   "id": "b9bb8ec7-7509-474e-9739-9ab037d0aa56",
   "metadata": {},
   "outputs": [],
   "source": []
  },
  {
   "cell_type": "code",
   "execution_count": null,
   "id": "2e649a9e-43b5-4565-804a-4c7ffecd45bf",
   "metadata": {},
   "outputs": [],
   "source": []
  },
  {
   "cell_type": "code",
   "execution_count": null,
   "id": "1f64cb52-fd68-463b-b903-d1724bcba0ba",
   "metadata": {},
   "outputs": [],
   "source": []
  },
  {
   "cell_type": "code",
   "execution_count": null,
   "id": "6dd4dc22-3a49-4aac-b206-9214435cd63b",
   "metadata": {},
   "outputs": [],
   "source": []
  },
  {
   "cell_type": "code",
   "execution_count": null,
   "id": "e4695d31-c1fb-4cb8-8d6c-6315bd81b983",
   "metadata": {},
   "outputs": [],
   "source": []
  },
  {
   "cell_type": "code",
   "execution_count": null,
   "id": "6f0b65ea-696d-4d48-b74c-b3ada6fc083b",
   "metadata": {},
   "outputs": [],
   "source": []
  },
  {
   "cell_type": "code",
   "execution_count": 14,
   "id": "b1d51859-6075-4309-8b14-ac2ce2703802",
   "metadata": {},
   "outputs": [
    {
     "data": {
      "text/plain": [
       "3.3333333333333335"
      ]
     },
     "execution_count": 14,
     "metadata": {},
     "output_type": "execute_result"
    }
   ],
   "source": [
    "# This will convert 200 minutes to hours by diving by 60\n",
    "Minutes =200\n",
    "Hours = Minutes / 60\n",
    "Hours"
   ]
  },
  {
   "cell_type": "code",
   "execution_count": null,
   "id": "ff89bb93-ea0a-4493-9109-32d0736d8960",
   "metadata": {},
   "outputs": [],
   "source": []
  },
  {
   "cell_type": "code",
   "execution_count": null,
   "id": "05329621-0796-4077-a071-452ce7fb7762",
   "metadata": {},
   "outputs": [],
   "source": []
  },
  {
   "cell_type": "code",
   "execution_count": null,
   "id": "443b7590-12d9-4fe2-b606-841b2fea7f40",
   "metadata": {},
   "outputs": [],
   "source": []
  },
  {
   "cell_type": "code",
   "execution_count": null,
   "id": "f59564f4-21dd-483f-9670-24e7b10586b2",
   "metadata": {},
   "outputs": [],
   "source": []
  },
  {
   "cell_type": "code",
   "execution_count": null,
   "id": "f465cc36-c371-4a2d-a6ad-fe4b4ff2bc3f",
   "metadata": {},
   "outputs": [],
   "source": []
  },
  {
   "cell_type": "code",
   "execution_count": null,
   "id": "af5ef29c-17a5-4cdd-b912-0537f7a6d919",
   "metadata": {
    "jupyter": {
     "source_hidden": true
    }
   },
   "outputs": [],
   "source": []
  }
 ],
 "metadata": {
  "kernelspec": {
   "display_name": "Python [conda env:base] *",
   "language": "python",
   "name": "conda-base-py"
  },
  "language_info": {
   "codemirror_mode": {
    "name": "ipython",
    "version": 3
   },
   "file_extension": ".py",
   "mimetype": "text/x-python",
   "name": "python",
   "nbconvert_exporter": "python",
   "pygments_lexer": "ipython3",
   "version": "3.12.7"
  }
 },
 "nbformat": 4,
 "nbformat_minor": 5
}
